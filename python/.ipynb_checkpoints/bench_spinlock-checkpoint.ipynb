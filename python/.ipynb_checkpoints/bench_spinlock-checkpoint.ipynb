{
 "cells": [
  {
   "cell_type": "code",
   "execution_count": 1,
   "metadata": {
    "collapsed": true
   },
   "outputs": [],
   "source": [
    "import subprocess\n",
    "import numpy as np\n",
    "import matplotlib.pyplot as plt"
   ]
  },
  {
   "cell_type": "code",
   "execution_count": 2,
   "metadata": {
    "collapsed": false
   },
   "outputs": [],
   "source": [
    "# common variables \n",
    "build_dir = '../build/Debug'\n",
    "bin_dir = '{}/bin'.format(build_dir)\n",
    "doc_dir = '../doc'"
   ]
  },
  {
   "cell_type": "code",
   "execution_count": 3,
   "metadata": {
    "collapsed": false
   },
   "outputs": [],
   "source": [
    "def run_benchmark(cmd, csv_file, log_file=None):\n",
    "    proc = subprocess.Popen([cmd,\n",
    "                             '--benchmark_format=console',\n",
    "                             '--benchmark_out={}'.format(csv_file),\n",
    "                             '--benchmark_out_format=csv',\n",
    "                             '--benchmark_counters_tabular=true',\n",
    "                            ], stdout=subprocess.PIPE, stderr=subprocess.PIPE)\n",
    "    \n",
    "    for line in iter(proc.stderr.readline, ''):\n",
    "        print line.rstrip()\n",
    "\n",
    "    for line in iter(proc.stdout.readline, ''):\n",
    "        print line.rstrip()\n",
    "    "
   ]
  },
  {
   "cell_type": "markdown",
   "metadata": {},
   "source": [
    "### Spinlock benchmarking"
   ]
  },
  {
   "cell_type": "code",
   "execution_count": 4,
   "metadata": {
    "collapsed": false
   },
   "outputs": [
    {
     "name": "stdout",
     "output_type": "stream",
     "text": [
      "2019-12-07 21:45:15\n",
      "Running ../build/Debug/bin/bench_spinlock\n",
      "Run on (8 X 2800 MHz CPU s)\n",
      "CPU Caches:\n",
      "  L1 Data 32 KiB (x4)\n",
      "  L1 Instruction 32 KiB (x4)\n",
      "  L2 Unified 256 KiB (x4)\n",
      "  L3 Unified 6144 KiB (x1)\n",
      "Load Average: 2.45, 2.19, 2.39\n",
      "***WARNING*** Library was built as DEBUG. Timings may be affected.\n",
      "----------------------------------------------------------------------------------------------------------------------------------------------------\n",
      "Benchmark                                                                                         Time             CPU   Iterations items_per_second\n",
      "----------------------------------------------------------------------------------------------------------------------------------------------------\n",
      "bench_spinlock<tachyon::spinlock_tas>/rate_tas/min_time:10.000/real_time/threads:1             21.6 ns         21.4 ns    649967940       46.3997M/s\n",
      "bench_spinlock<tachyon::spinlock_tas>/rate_tas/min_time:10.000/real_time/threads:2             61.4 ns          122 ns    232708558       16.2832M/s\n",
      "bench_spinlock<tachyon::spinlock_tas>/rate_tas/min_time:10.000/real_time/threads:4              129 ns          515 ns    104312504       7.73984M/s\n",
      "bench_spinlock<tachyon::spinlock_tas>/rate_tas/min_time:10.000/real_time/threads:8              167 ns         1084 ns     90616664       6.00247M/s\n",
      "bench_spinlock<tachyon::spinlock_tas>/rate_tas/min_time:10.000/threads:1                       24.1 ns         23.4 ns    547953355       42.8051M/s\n",
      "bench_spinlock<tachyon::spinlock_tas>/rate_tas/min_time:10.000/threads:2                       65.0 ns          127 ns    108714982       7.88896M/s\n",
      "bench_spinlock<tachyon::spinlock_tas>/rate_tas/min_time:10.000/threads:4                        117 ns          466 ns     27545784       2.14372M/s\n",
      "bench_spinlock<tachyon::spinlock_tas>/rate_tas/min_time:10.000/threads:8                        149 ns          982 ns     13561024       1018.83k/s\n",
      "bench_spinlock<tachyon::spinlock_tatas>/rate_tatas/min_time:10.000/real_time/threads:1         21.0 ns         21.0 ns    627050675       47.5874M/s\n",
      "bench_spinlock<tachyon::spinlock_tatas>/rate_tatas/min_time:10.000/real_time/threads:2         51.7 ns          103 ns    249644956       19.3384M/s\n",
      "bench_spinlock<tachyon::spinlock_tatas>/rate_tatas/min_time:10.000/real_time/threads:4          114 ns          456 ns    125039264       8.76526M/s\n",
      "bench_spinlock<tachyon::spinlock_tatas>/rate_tatas/min_time:10.000/real_time/threads:8          142 ns         1092 ns    101255280       7.04995M/s\n",
      "bench_spinlock<tachyon::spinlock_tatas>/rate_tatas/min_time:10.000/threads:1                   21.5 ns         21.4 ns    670644547       46.7371M/s\n",
      "bench_spinlock<tachyon::spinlock_tatas>/rate_tatas/min_time:10.000/threads:2                   66.7 ns          133 ns     95415392       7.52094M/s\n",
      "bench_spinlock<tachyon::spinlock_tatas>/rate_tatas/min_time:10.000/threads:4                    110 ns          436 ns     33382732       2.29447M/s\n",
      "bench_spinlock<tachyon::spinlock_tatas>/rate_tatas/min_time:10.000/threads:8                    161 ns         1024 ns     14076272         976.9k/s\n",
      "bench_spinlock<tachyon::spinlock_tas_eb>/rate_tas_eb/min_time:10.000/real_time/threads:1       20.8 ns         20.8 ns    655692103       48.1091M/s\n",
      "bench_spinlock<tachyon::spinlock_tas_eb>/rate_tas_eb/min_time:10.000/real_time/threads:2       23.0 ns         46.0 ns    617183214       43.4242M/s\n",
      "bench_spinlock<tachyon::spinlock_tas_eb>/rate_tas_eb/min_time:10.000/real_time/threads:4       26.9 ns          107 ns    546252804       37.1914M/s\n",
      "bench_spinlock<tachyon::spinlock_tas_eb>/rate_tas_eb/min_time:10.000/real_time/threads:8       48.9 ns          371 ns    293510440       20.4375M/s\n",
      "bench_spinlock<tachyon::spinlock_tas_eb>/rate_tas_eb/min_time:10.000/threads:1                 20.9 ns         20.9 ns    661878136       47.8508M/s\n",
      "bench_spinlock<tachyon::spinlock_tas_eb>/rate_tas_eb/min_time:10.000/threads:2                 23.1 ns         46.1 ns    317428790       21.6817M/s\n",
      "bench_spinlock<tachyon::spinlock_tas_eb>/rate_tas_eb/min_time:10.000/threads:4                 26.2 ns          105 ns    143052528       9.53724M/s\n",
      "bench_spinlock<tachyon::spinlock_tas_eb>/rate_tas_eb/min_time:10.000/threads:8                 48.0 ns          343 ns     38174992       2.91687M/s\n",
      "bench_spinlock<tachyon::spinlock_cas>/rate_cas/min_time:10.000/real_time/threads:1             25.3 ns         25.3 ns    556745935       39.4998M/s\n",
      "bench_spinlock<tachyon::spinlock_cas>/rate_cas/min_time:10.000/real_time/threads:2             60.9 ns          122 ns    229017210       16.4155M/s\n",
      "bench_spinlock<tachyon::spinlock_cas>/rate_cas/min_time:10.000/real_time/threads:4              110 ns          437 ns    125670092       9.07895M/s\n",
      "bench_spinlock<tachyon::spinlock_cas>/rate_cas/min_time:10.000/real_time/threads:8              169 ns         1200 ns     81257112       5.92014M/s\n",
      "bench_spinlock<tachyon::spinlock_cas>/rate_cas/min_time:10.000/threads:1                       25.3 ns         25.3 ns    558135604       39.6039M/s\n",
      "bench_spinlock<tachyon::spinlock_cas>/rate_cas/min_time:10.000/threads:2                       61.2 ns          122 ns    114292712       8.17612M/s\n",
      "bench_spinlock<tachyon::spinlock_cas>/rate_cas/min_time:10.000/threads:4                        110 ns          439 ns     31299096       2.27575M/s\n",
      "bench_spinlock<tachyon::spinlock_cas>/rate_cas/min_time:10.000/threads:8                        171 ns         1305 ns      8000000       766.453k/s\n"
     ]
    }
   ],
   "source": [
    "bench_spinlock = 'bench_spinlock'\n",
    "bench_spinlock_cmd = '{}/{}'.format(bin_dir, bench_spinlock)\n",
    "bench_spinlock_csv_file = '{}/{}.csv'.format(doc_dir, bench_spinlock)\n",
    "\n",
    "run_benchmark(cmd=bench_spinlock_cmd, csv_file=bench_spinlock_csv_file)"
   ]
  },
  {
   "cell_type": "code",
   "execution_count": null,
   "metadata": {
    "collapsed": true
   },
   "outputs": [],
   "source": []
  }
 ],
 "metadata": {
  "kernelspec": {
   "display_name": "Python [Root]",
   "language": "python",
   "name": "Python [Root]"
  },
  "language_info": {
   "codemirror_mode": {
    "name": "ipython",
    "version": 2
   },
   "file_extension": ".py",
   "mimetype": "text/x-python",
   "name": "python",
   "nbconvert_exporter": "python",
   "pygments_lexer": "ipython2",
   "version": "2.7.13"
  }
 },
 "nbformat": 4,
 "nbformat_minor": 2
}
